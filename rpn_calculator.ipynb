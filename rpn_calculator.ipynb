{
 "cells": [
  {
   "cell_type": "markdown",
   "metadata": {},
   "source": [
    "# Reverse Polish Notation Calculator\n",
    "Sebastian Thomas @ neue fische Bootcamp Data Science"
   ]
  },
  {
   "cell_type": "markdown",
   "metadata": {},
   "source": [
    "## Imperative implementation"
   ]
  },
  {
   "cell_type": "code",
   "execution_count": null,
   "metadata": {},
   "outputs": [],
   "source": [
    "ops = {\n",
    "    '+': (lambda x, y: x + y),\n",
    "    '-': (lambda x, y: x - y),\n",
    "    '*': (lambda x, y: x * y),\n",
    "    '/': (lambda x, y: x / y)\n",
    "}\n",
    "stack = []\n",
    "\n",
    "def evaluate(expr):\n",
    "    '''\n",
    "    computes the result of the computation that a string of characters gives\n",
    "    '''\n",
    "    for token in expr.split():\n",
    "        if token in ops:\n",
    "            operand2 = stack.pop()\n",
    "            operand1 = stack.pop()\n",
    "            stack.append(ops[token](operand1, operand2))\n",
    "        else:\n",
    "            stack.append(float(token))\n",
    "        print(stack)\n",
    "    return stack.pop()"
   ]
  },
  {
   "cell_type": "markdown",
   "metadata": {},
   "source": [
    "Test:"
   ]
  },
  {
   "cell_type": "code",
   "execution_count": null,
   "metadata": {},
   "outputs": [],
   "source": [
    "evaluate('6 5 3 + 4 / + 3 -')"
   ]
  },
  {
   "cell_type": "markdown",
   "metadata": {},
   "source": [
    "# Object oriented implementation"
   ]
  },
  {
   "cell_type": "code",
   "execution_count": null,
   "metadata": {},
   "outputs": [],
   "source": [
    "def isfloat(value):\n",
    "    try:\n",
    "        float(value)\n",
    "        return True\n",
    "    except ValueError:\n",
    "        return False\n",
    " \n",
    "class RPNCalculator():\n",
    "    \n",
    "    ops = {\n",
    "        '+': (lambda x, y: x + y),\n",
    "        '-': (lambda x, y: x - y),\n",
    "        '*': (lambda x, y: x * y),\n",
    "        '/': (lambda x, y: x / y)\n",
    "    }\n",
    "\n",
    "    def __init__(self):\n",
    "        self.stack = []\n",
    "        self.storage = []\n",
    "    \n",
    "    def clear_storage(self):\n",
    "        self.storage = []\n",
    "\n",
    "    def are_admissible(self, tokens):\n",
    "        tokens = self.storage + tokens\n",
    "        last_idx = len(tokens) - 1\n",
    "        count = 0\n",
    "        for idx in range(len(tokens)):\n",
    "            if isfloat(tokens[idx]):\n",
    "                count += 1\n",
    "                if float(tokens[idx]) == 0.0 and idx < last_idx and tokens[idx + 1] == '/': # division by zero\n",
    "                    return False\n",
    "            elif tokens[idx] in self.ops:\n",
    "                count -= 1\n",
    "                if count < 1: # operator needs two operands\n",
    "                    return False\n",
    "            else:\n",
    "                return False\n",
    "        return True\n",
    "    \n",
    "    def evaluate(self):\n",
    "        '''\n",
    "        evaluates stored expression\n",
    "        '''\n",
    "        for token in self.storage:\n",
    "            if token in self.ops:\n",
    "                operand2 = self.stack.pop()\n",
    "                operand1 = self.stack.pop()\n",
    "                self.stack.append(self.ops[token](operand1, operand2))\n",
    "            else:\n",
    "                self.stack.append(float(token))\n",
    "        \n",
    "        # persist and delete stack\n",
    "        self.storage = self.stack\n",
    "        self.stack = []\n",
    "    \n",
    "    def print_storage(self):\n",
    "        if self.storage == []:\n",
    "            print('No value stored.')\n",
    "        else:\n",
    "            print('Storage/result: ', ' '.join([str(token) for token in self.storage]))\n",
    "    \n",
    "    def run(self):\n",
    "        while True:\n",
    "            expr = input('Input expression: ')\n",
    "            tokens = expr.split()\n",
    "            if tokens == ['c']:\n",
    "                print('I clear the storage!')\n",
    "                self.clear_storage()\n",
    "                self.print_storage()\n",
    "            elif tokens == ['q']:\n",
    "                print('I quit!')\n",
    "                self.clear_storage()\n",
    "                break\n",
    "            elif self.are_admissible(tokens):\n",
    "                self.storage += tokens\n",
    "                self.evaluate()\n",
    "                self.print_storage()\n",
    "            else:\n",
    "                print('Invalid input!')\n",
    "                self.print_storage()"
   ]
  },
  {
   "cell_type": "markdown",
   "metadata": {},
   "source": [
    "Test:"
   ]
  },
  {
   "cell_type": "code",
   "execution_count": null,
   "metadata": {},
   "outputs": [],
   "source": [
    "rpn = RPNCalculator()\n",
    "rpn.run()"
   ]
  }
 ],
 "metadata": {
  "kernelspec": {
   "display_name": "Python 3",
   "language": "python",
   "name": "python3"
  },
  "language_info": {
   "codemirror_mode": {
    "name": "ipython",
    "version": 3
   },
   "file_extension": ".py",
   "mimetype": "text/x-python",
   "name": "python",
   "nbconvert_exporter": "python",
   "pygments_lexer": "ipython3",
   "version": "3.6.10"
  }
 },
 "nbformat": 4,
 "nbformat_minor": 4
}
